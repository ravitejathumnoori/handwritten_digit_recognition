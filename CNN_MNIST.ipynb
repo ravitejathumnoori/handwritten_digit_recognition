{
 "cells": [
  {
   "cell_type": "markdown",
   "metadata": {
    "colab_type": "text",
    "id": "FIKcxuK2FY0w"
   },
   "source": [
    "# Applying Conv Nets on MINIST data"
   ]
  },
  {
   "cell_type": "code",
   "execution_count": 0,
   "metadata": {
    "colab": {},
    "colab_type": "code",
    "id": "Ep4R_Q8IFY02"
   },
   "outputs": [],
   "source": [
    "%matplotlib inline\n",
    "import matplotlib.pyplot as plt\n",
    "import numpy as np\n",
    "import time\n",
    "def plt_dynamic(x, vy, ty, ax, colors=['b']):\n",
    "    ax.plot(x, vy, 'b', label=\"Validation Loss\")\n",
    "    ax.plot(x, ty, 'r', label=\"Train Loss\")\n",
    "    plt.legend()\n",
    "    plt.grid()\n",
    "    fig.canvas.draw()"
   ]
  },
  {
   "cell_type": "code",
   "execution_count": 2,
   "metadata": {
    "colab": {
     "base_uri": "https://localhost:8080/",
     "height": 119
    },
    "colab_type": "code",
    "id": "H9EU0e8yzFOm",
    "outputId": "c61fcf40-5421-4123-b93e-82d0887a204a"
   },
   "outputs": [
    {
     "name": "stderr",
     "output_type": "stream",
     "text": [
      "Using TensorFlow backend.\n"
     ]
    },
    {
     "name": "stdout",
     "output_type": "stream",
     "text": [
      "Downloading data from https://s3.amazonaws.com/img-datasets/mnist.npz\n",
      "11493376/11490434 [==============================] - 0s 0us/step\n",
      "x_train shape: (60000, 28, 28, 1)\n",
      "60000 train samples\n",
      "10000 test samples\n"
     ]
    }
   ],
   "source": [
    "# Credits: https://github.com/keras-team/keras/blob/master/examples/mnist_cnn.py\n",
    "\n",
    "\n",
    "from __future__ import print_function\n",
    "import keras\n",
    "from keras.datasets import mnist\n",
    "from keras.models import Sequential\n",
    "from keras.layers import Dense, Dropout, Flatten\n",
    "from keras.layers import Conv2D, MaxPooling2D\n",
    "from keras import backend as K\n",
    "\n",
    "batch_size = 128\n",
    "num_classes = 10\n",
    "epochs = 20\n",
    "\n",
    "# input image dimensions\n",
    "img_rows, img_cols = 28, 28\n",
    "\n",
    "# the data, split between train and test sets\n",
    "(x_train, y_train), (x_test, y_test) = mnist.load_data()\n",
    "\n",
    "if K.image_data_format() == 'channels_first':\n",
    "    x_train = x_train.reshape(x_train.shape[0], 1, img_rows, img_cols)\n",
    "    x_test = x_test.reshape(x_test.shape[0], 1, img_rows, img_cols)\n",
    "    input_shape = (1, img_rows, img_cols)\n",
    "else:\n",
    "    x_train = x_train.reshape(x_train.shape[0], img_rows, img_cols, 1)\n",
    "    x_test = x_test.reshape(x_test.shape[0], img_rows, img_cols, 1)\n",
    "    input_shape = (img_rows, img_cols, 1)\n",
    "\n",
    "x_train = x_train.astype('float32')\n",
    "x_test = x_test.astype('float32')\n",
    "x_train /= 255\n",
    "x_test /= 255\n",
    "print('x_train shape:', x_train.shape)\n",
    "print(x_train.shape[0], 'train samples')\n",
    "print(x_test.shape[0], 'test samples')\n",
    "\n",
    "# convert class vectors to binary class matrices\n",
    "y_train = keras.utils.to_categorical(y_train, num_classes)\n",
    "y_test = keras.utils.to_categorical(y_test, num_classes)"
   ]
  },
  {
   "cell_type": "code",
   "execution_count": 0,
   "metadata": {
    "colab": {},
    "colab_type": "code",
    "id": "yWptcaPOFY1Z"
   },
   "outputs": [],
   "source": [
    "from prettytable import PrettyTable\n",
    "ptab = PrettyTable()\n",
    "ptab.field_names = [\"Model name\", \"test accuracy\", \"test log-loss\"]"
   ]
  },
  {
   "cell_type": "markdown",
   "metadata": {
    "colab_type": "text",
    "id": "DFGLFJnNFY1g"
   },
   "source": [
    "##  Model 1"
   ]
  },
  {
   "cell_type": "code",
   "execution_count": 6,
   "metadata": {
    "colab": {
     "base_uri": "https://localhost:8080/",
     "height": 714
    },
    "colab_type": "code",
    "id": "PPsjZUWgFY1j",
    "outputId": "6ce91702-9b56-4520-df29-0380bf812d1b"
   },
   "outputs": [
    {
     "name": "stdout",
     "output_type": "stream",
     "text": [
      "Train on 60000 samples, validate on 10000 samples\n",
      "Epoch 1/20\n",
      "60000/60000 [==============================] - 15s 249us/step - loss: 0.1739 - acc: 0.9463 - val_loss: 0.0447 - val_acc: 0.9847\n",
      "Epoch 2/20\n",
      "60000/60000 [==============================] - 14s 233us/step - loss: 0.0504 - acc: 0.9848 - val_loss: 0.0381 - val_acc: 0.9874\n",
      "Epoch 3/20\n",
      "60000/60000 [==============================] - 14s 233us/step - loss: 0.0352 - acc: 0.9892 - val_loss: 0.0343 - val_acc: 0.9888\n",
      "Epoch 4/20\n",
      "60000/60000 [==============================] - 14s 234us/step - loss: 0.0274 - acc: 0.9914 - val_loss: 0.0286 - val_acc: 0.9903\n",
      "Epoch 5/20\n",
      "60000/60000 [==============================] - 14s 233us/step - loss: 0.0209 - acc: 0.9930 - val_loss: 0.0233 - val_acc: 0.9923\n",
      "Epoch 6/20\n",
      "60000/60000 [==============================] - 14s 234us/step - loss: 0.0188 - acc: 0.9941 - val_loss: 0.0243 - val_acc: 0.9920\n",
      "Epoch 7/20\n",
      "60000/60000 [==============================] - 14s 233us/step - loss: 0.0149 - acc: 0.9953 - val_loss: 0.0225 - val_acc: 0.9928\n",
      "Epoch 8/20\n",
      "60000/60000 [==============================] - 14s 233us/step - loss: 0.0125 - acc: 0.9960 - val_loss: 0.0246 - val_acc: 0.9925\n",
      "Epoch 9/20\n",
      "60000/60000 [==============================] - 14s 233us/step - loss: 0.0113 - acc: 0.9966 - val_loss: 0.0239 - val_acc: 0.9928\n",
      "Epoch 10/20\n",
      "60000/60000 [==============================] - 14s 232us/step - loss: 0.0093 - acc: 0.9970 - val_loss: 0.0256 - val_acc: 0.9926\n",
      "Epoch 11/20\n",
      "60000/60000 [==============================] - 14s 232us/step - loss: 0.0076 - acc: 0.9976 - val_loss: 0.0275 - val_acc: 0.9925\n",
      "Epoch 12/20\n",
      "60000/60000 [==============================] - 14s 232us/step - loss: 0.0069 - acc: 0.9978 - val_loss: 0.0265 - val_acc: 0.9924\n",
      "Epoch 13/20\n",
      "60000/60000 [==============================] - 14s 231us/step - loss: 0.0067 - acc: 0.9979 - val_loss: 0.0275 - val_acc: 0.9923\n",
      "Epoch 14/20\n",
      "60000/60000 [==============================] - 14s 230us/step - loss: 0.0057 - acc: 0.9983 - val_loss: 0.0263 - val_acc: 0.9931\n",
      "Epoch 15/20\n",
      "60000/60000 [==============================] - 14s 230us/step - loss: 0.0044 - acc: 0.9986 - val_loss: 0.0264 - val_acc: 0.9933\n",
      "Epoch 16/20\n",
      "60000/60000 [==============================] - 14s 230us/step - loss: 0.0045 - acc: 0.9984 - val_loss: 0.0303 - val_acc: 0.9930\n",
      "Epoch 17/20\n",
      "60000/60000 [==============================] - 14s 229us/step - loss: 0.0051 - acc: 0.9984 - val_loss: 0.0268 - val_acc: 0.9929\n",
      "Epoch 18/20\n",
      "60000/60000 [==============================] - 14s 230us/step - loss: 0.0034 - acc: 0.9989 - val_loss: 0.0266 - val_acc: 0.9934\n",
      "Epoch 19/20\n",
      "60000/60000 [==============================] - 14s 230us/step - loss: 0.0036 - acc: 0.9992 - val_loss: 0.0284 - val_acc: 0.9932\n",
      "Epoch 20/20\n",
      "60000/60000 [==============================] - 14s 230us/step - loss: 0.0031 - acc: 0.9989 - val_loss: 0.0290 - val_acc: 0.9932\n"
     ]
    }
   ],
   "source": [
    "model = Sequential()\n",
    "model.add(Conv2D(128, kernel_size=(5, 5),\n",
    "                 activation='relu',\n",
    "                 input_shape=input_shape))\n",
    "model.add(Conv2D(64, (5, 5), activation='relu'))\n",
    "model.add(MaxPooling2D(pool_size=(2, 2)))\n",
    "model.add(Dropout(0.25))\n",
    "model.add(Flatten())\n",
    "model.add(Dense(256, activation='relu'))\n",
    "model.add(Dropout(0.25))\n",
    "model.add(Dense(num_classes, activation='softmax'))\n",
    "\n",
    "model.compile(loss=keras.losses.categorical_crossentropy,\n",
    "              optimizer=keras.optimizers.Adadelta(),\n",
    "              metrics=['accuracy'])\n",
    "\n",
    "history = model.fit(x_train, y_train,batch_size=batch_size,epochs=epochs,verbose=1,\n",
    "          validation_data=(x_test, y_test))"
   ]
  },
  {
   "cell_type": "code",
   "execution_count": 7,
   "metadata": {
    "colab": {
     "base_uri": "https://localhost:8080/",
     "height": 313
    },
    "colab_type": "code",
    "id": "c-qWPyqEFY1y",
    "outputId": "4522a5e2-ec8c-4907-95bd-ead61aacff18"
   },
   "outputs": [
    {
     "name": "stdout",
     "output_type": "stream",
     "text": [
      "Test loss: 0.029028430455417583\n",
      "Test accuracy: 0.9932\n"
     ]
    },
    {
     "data": {
      "image/png": "[encoded data removed]",
      "text/plain": [
       "<Figure size 432x288 with 1 Axes>"
      ]
     },
     "metadata": {
      "tags": []
     },
     "output_type": "display_data"
    }
   ],
   "source": [
    "score = model.evaluate(x_test, y_test, verbose=0)\n",
    "print('Test loss:', score[0])\n",
    "print('Test accuracy:', score[1])\n",
    "fig,ax = plt.subplots(1,1)\n",
    "ax.set_xlabel('epoch') ; ax.set_ylabel('Categorical Crossentropy Loss')\n",
    "x = list(range(1,epochs+1))\n",
    "vy = history.history['val_loss']\n",
    "ty = history.history['loss']\n",
    "plt_dynamic(x, vy, ty, ax)"
   ]
  },
  {
   "cell_type": "code",
   "execution_count": 0,
   "metadata": {
    "colab": {},
    "colab_type": "code",
    "id": "GpnQYv5TFY17"
   },
   "outputs": [],
   "source": [
    "ptab.add_row([\"3 layer convnet\", score[1], score[0]])"
   ]
  },
  {
   "cell_type": "markdown",
   "metadata": {
    "colab_type": "text",
    "id": "eHMkhAX6FY2D"
   },
   "source": [
    "## Model 2"
   ]
  },
  {
   "cell_type": "code",
   "execution_count": 9,
   "metadata": {
    "colab": {
     "base_uri": "https://localhost:8080/",
     "height": 714
    },
    "colab_type": "code",
    "id": "2v8t3AGxFY2F",
    "outputId": "d753057a-7b6b-4f5a-dbd7-42e14cc46a94"
   },
   "outputs": [
    {
     "name": "stdout",
     "output_type": "stream",
     "text": [
      "Train on 60000 samples, validate on 10000 samples\n",
      "Epoch 1/20\n",
      "60000/60000 [==============================] - 9s 150us/step - loss: 0.6321 - acc: 0.7942 - val_loss: 0.1050 - val_acc: 0.9660\n",
      "Epoch 2/20\n",
      "60000/60000 [==============================] - 8s 139us/step - loss: 0.2358 - acc: 0.9356 - val_loss: 0.0752 - val_acc: 0.9784\n",
      "Epoch 3/20\n",
      "60000/60000 [==============================] - 8s 139us/step - loss: 0.1803 - acc: 0.9509 - val_loss: 0.0560 - val_acc: 0.9817\n",
      "Epoch 4/20\n",
      "60000/60000 [==============================] - 8s 139us/step - loss: 0.1516 - acc: 0.9588 - val_loss: 0.0443 - val_acc: 0.9865\n",
      "Epoch 5/20\n",
      "60000/60000 [==============================] - 8s 139us/step - loss: 0.1366 - acc: 0.9632 - val_loss: 0.0449 - val_acc: 0.9864\n",
      "Epoch 6/20\n",
      "60000/60000 [==============================] - 8s 138us/step - loss: 0.1243 - acc: 0.9678 - val_loss: 0.0379 - val_acc: 0.9882\n",
      "Epoch 7/20\n",
      "60000/60000 [==============================] - 8s 139us/step - loss: 0.1130 - acc: 0.9704 - val_loss: 0.0390 - val_acc: 0.9891\n",
      "Epoch 8/20\n",
      "60000/60000 [==============================] - 8s 139us/step - loss: 0.1061 - acc: 0.9721 - val_loss: 0.0365 - val_acc: 0.9896\n",
      "Epoch 9/20\n",
      "60000/60000 [==============================] - 8s 139us/step - loss: 0.1014 - acc: 0.9732 - val_loss: 0.0339 - val_acc: 0.9901\n",
      "Epoch 10/20\n",
      "60000/60000 [==============================] - 8s 138us/step - loss: 0.0994 - acc: 0.9742 - val_loss: 0.0350 - val_acc: 0.9889\n",
      "Epoch 11/20\n",
      "60000/60000 [==============================] - 8s 138us/step - loss: 0.0934 - acc: 0.9762 - val_loss: 0.0326 - val_acc: 0.9910\n",
      "Epoch 12/20\n",
      "60000/60000 [==============================] - 8s 138us/step - loss: 0.0915 - acc: 0.9760 - val_loss: 0.0321 - val_acc: 0.9898\n",
      "Epoch 13/20\n",
      "60000/60000 [==============================] - 8s 139us/step - loss: 0.0872 - acc: 0.9779 - val_loss: 0.0294 - val_acc: 0.9923\n",
      "Epoch 14/20\n",
      "60000/60000 [==============================] - 8s 137us/step - loss: 0.0849 - acc: 0.9782 - val_loss: 0.0293 - val_acc: 0.9921\n",
      "Epoch 15/20\n",
      "60000/60000 [==============================] - 8s 137us/step - loss: 0.0815 - acc: 0.9792 - val_loss: 0.0278 - val_acc: 0.9925\n",
      "Epoch 16/20\n",
      "60000/60000 [==============================] - 8s 138us/step - loss: 0.0840 - acc: 0.9789 - val_loss: 0.0297 - val_acc: 0.9923\n",
      "Epoch 17/20\n",
      "60000/60000 [==============================] - 8s 138us/step - loss: 0.0793 - acc: 0.9796 - val_loss: 0.0276 - val_acc: 0.9918\n",
      "Epoch 18/20\n",
      "60000/60000 [==============================] - 8s 138us/step - loss: 0.0800 - acc: 0.9797 - val_loss: 0.0302 - val_acc: 0.9917\n",
      "Epoch 19/20\n",
      "60000/60000 [==============================] - 8s 139us/step - loss: 0.0783 - acc: 0.9806 - val_loss: 0.0321 - val_acc: 0.9907\n",
      "Epoch 20/20\n",
      "60000/60000 [==============================] - 8s 139us/step - loss: 0.0740 - acc: 0.9816 - val_loss: 0.0287 - val_acc: 0.9920\n"
     ]
    }
   ],
   "source": [
    "model = Sequential()\n",
    "model.add(Conv2D(64, kernel_size=(3, 3),activation='relu',input_shape=input_shape))\n",
    "model.add(Conv2D(32, (3, 3), activation='relu'))\n",
    "model.add(MaxPooling2D(pool_size=(2, 2)))\n",
    "model.add(Conv2D(16, (3, 3), activation='relu'))\n",
    "model.add(MaxPooling2D(pool_size=(2, 2)))\n",
    "model.add(Dropout(0.5))\n",
    "model.add(Flatten())\n",
    "model.add(Dense(256, activation='relu'))\n",
    "model.add(Dropout(0.5))\n",
    "model.add(Dense(64, activation='relu'))\n",
    "model.add(Dropout(0.5))\n",
    "model.add(Dense(num_classes, activation='softmax'))\n",
    "\n",
    "model.compile(loss=keras.losses.categorical_crossentropy,\n",
    "              optimizer=keras.optimizers.Adadelta(),\n",
    "              metrics=['accuracy'])\n",
    "\n",
    "history = model.fit(x_train, y_train,batch_size=batch_size,epochs=epochs,verbose=1,\n",
    "          validation_data=(x_test, y_test))"
   ]
  },
  {
   "cell_type": "code",
   "execution_count": 10,
   "metadata": {
    "colab": {
     "base_uri": "https://localhost:8080/",
     "height": 313
    },
    "colab_type": "code",
    "id": "-77_eseSFY2Q",
    "outputId": "7255bbf0-1bcf-414c-b0a9-e16e0ef57f3f"
   },
   "outputs": [
    {
     "name": "stdout",
     "output_type": "stream",
     "text": [
      "Test loss: 0.02873982904376244\n",
      "Test accuracy: 0.992\n"
     ]
    },
    {
     "data": {
      "image/png": "[encoded data removed]",
      "text/plain": [
       "<Figure size 432x288 with 1 Axes>"
      ]
     },
     "metadata": {
      "tags": []
     },
     "output_type": "display_data"
    }
   ],
   "source": [
    "score = model.evaluate(x_test, y_test, verbose=0)\n",
    "print('Test loss:', score[0])\n",
    "print('Test accuracy:', score[1])\n",
    "fig,ax = plt.subplots(1,1)\n",
    "ax.set_xlabel('epoch') ; ax.set_ylabel('Categorical Crossentropy Loss')\n",
    "x = list(range(1,epochs+1))\n",
    "vy = history.history['val_loss']\n",
    "ty = history.history['loss']\n",
    "plt_dynamic(x, vy, ty, ax)"
   ]
  },
  {
   "cell_type": "code",
   "execution_count": 0,
   "metadata": {
    "colab": {},
    "colab_type": "code",
    "id": "BoHQq3ZXFY2a"
   },
   "outputs": [],
   "source": [
    "ptab.add_row([\"5 layer convnet\", score[1], score[0]])"
   ]
  },
  {
   "cell_type": "markdown",
   "metadata": {
    "colab_type": "text",
    "id": "b9fmkeduFY2j"
   },
   "source": [
    "# Model 3"
   ]
  },
  {
   "cell_type": "code",
   "execution_count": 12,
   "metadata": {
    "colab": {
     "base_uri": "https://localhost:8080/",
     "height": 714
    },
    "colab_type": "code",
    "id": "LCW9rUg7FY2p",
    "outputId": "c034ffdc-2119-4844-b1e8-482bca6d6f1d"
   },
   "outputs": [
    {
     "name": "stdout",
     "output_type": "stream",
     "text": [
      "Train on 60000 samples, validate on 10000 samples\n",
      "Epoch 1/20\n",
      "60000/60000 [==============================] - 16s 269us/step - loss: 1.4485 - acc: 0.4960 - val_loss: 0.3403 - val_acc: 0.9191\n",
      "Epoch 2/20\n",
      "60000/60000 [==============================] - 15s 253us/step - loss: 0.6813 - acc: 0.7964 - val_loss: 0.2178 - val_acc: 0.9407\n",
      "Epoch 3/20\n",
      "60000/60000 [==============================] - 15s 255us/step - loss: 0.5417 - acc: 0.8467 - val_loss: 0.1675 - val_acc: 0.9526\n",
      "Epoch 4/20\n",
      "60000/60000 [==============================] - 15s 253us/step - loss: 0.4716 - acc: 0.8685 - val_loss: 0.1543 - val_acc: 0.9578\n",
      "Epoch 5/20\n",
      "60000/60000 [==============================] - 15s 253us/step - loss: 0.4292 - acc: 0.8821 - val_loss: 0.1403 - val_acc: 0.9604\n",
      "Epoch 6/20\n",
      "60000/60000 [==============================] - 15s 253us/step - loss: 0.3986 - acc: 0.8938 - val_loss: 0.1274 - val_acc: 0.9632\n",
      "Epoch 7/20\n",
      "60000/60000 [==============================] - 15s 254us/step - loss: 0.3725 - acc: 0.9016 - val_loss: 0.1181 - val_acc: 0.9666\n",
      "Epoch 8/20\n",
      "60000/60000 [==============================] - 15s 254us/step - loss: 0.3495 - acc: 0.9068 - val_loss: 0.1136 - val_acc: 0.9671\n",
      "Epoch 9/20\n",
      "60000/60000 [==============================] - 15s 254us/step - loss: 0.3362 - acc: 0.9112 - val_loss: 0.1085 - val_acc: 0.9686\n",
      "Epoch 10/20\n",
      "60000/60000 [==============================] - 15s 253us/step - loss: 0.3225 - acc: 0.9150 - val_loss: 0.0949 - val_acc: 0.9724\n",
      "Epoch 11/20\n",
      "60000/60000 [==============================] - 15s 253us/step - loss: 0.3146 - acc: 0.9179 - val_loss: 0.0933 - val_acc: 0.9736\n",
      "Epoch 12/20\n",
      "60000/60000 [==============================] - 15s 252us/step - loss: 0.3009 - acc: 0.9215 - val_loss: 0.1020 - val_acc: 0.9701\n",
      "Epoch 13/20\n",
      "60000/60000 [==============================] - 15s 253us/step - loss: 0.2962 - acc: 0.9220 - val_loss: 0.1005 - val_acc: 0.9727\n",
      "Epoch 14/20\n",
      "60000/60000 [==============================] - 15s 252us/step - loss: 0.2864 - acc: 0.9258 - val_loss: 0.0945 - val_acc: 0.9729\n",
      "Epoch 15/20\n",
      "60000/60000 [==============================] - 15s 254us/step - loss: 0.2825 - acc: 0.9279 - val_loss: 0.1038 - val_acc: 0.9696\n",
      "Epoch 16/20\n",
      "60000/60000 [==============================] - 15s 254us/step - loss: 0.2778 - acc: 0.9287 - val_loss: 0.0854 - val_acc: 0.9764\n",
      "Epoch 17/20\n",
      "60000/60000 [==============================] - 15s 252us/step - loss: 0.2737 - acc: 0.9298 - val_loss: 0.0869 - val_acc: 0.9745\n",
      "Epoch 18/20\n",
      "60000/60000 [==============================] - 15s 252us/step - loss: 0.2597 - acc: 0.9334 - val_loss: 0.0796 - val_acc: 0.9783\n",
      "Epoch 19/20\n",
      "60000/60000 [==============================] - 15s 252us/step - loss: 0.2592 - acc: 0.9332 - val_loss: 0.0778 - val_acc: 0.9793\n",
      "Epoch 20/20\n",
      "60000/60000 [==============================] - 15s 252us/step - loss: 0.2542 - acc: 0.9346 - val_loss: 0.0867 - val_acc: 0.9754\n"
     ]
    }
   ],
   "source": [
    "model = Sequential()\n",
    "model.add(Conv2D(128, kernel_size=(2, 2),activation='relu',input_shape=input_shape))\n",
    "model.add(Conv2D(64, (2, 2), activation='relu'))\n",
    "model.add(MaxPooling2D(pool_size=(2, 2)))\n",
    "model.add(Conv2D(32, (2, 2), activation='relu'))\n",
    "model.add(MaxPooling2D(pool_size=(2, 2)))\n",
    "model.add(Conv2D(16, (2, 2), activation='relu'))\n",
    "model.add(MaxPooling2D(pool_size=(2, 2)))\n",
    "model.add(Dropout(0.5))\n",
    "model.add(Flatten())\n",
    "model.add(Dense(256, activation='relu'))\n",
    "model.add(Dropout(0.5))\n",
    "model.add(Dense(128, activation='relu'))\n",
    "model.add(Dropout(0.5))\n",
    "model.add(Dense(64, activation='relu'))\n",
    "model.add(Dropout(0.5))\n",
    "model.add(Dense(num_classes, activation='softmax'))\n",
    "\n",
    "model.compile(loss=keras.losses.categorical_crossentropy,\n",
    "              optimizer=keras.optimizers.Adadelta(),\n",
    "              metrics=['accuracy'])\n",
    "\n",
    "history = model.fit(x_train, y_train,batch_size=batch_size,epochs=epochs,verbose=1,\n",
    "          validation_data=(x_test, y_test))"
   ]
  },
  {
   "cell_type": "code",
   "execution_count": 13,
   "metadata": {
    "colab": {
     "base_uri": "https://localhost:8080/",
     "height": 313
    },
    "colab_type": "code",
    "id": "I3c1Rr3SFY2v",
    "outputId": "0ffe10c1-eb7b-42a8-c256-99ecde5a62ae"
   },
   "outputs": [
    {
     "name": "stdout",
     "output_type": "stream",
     "text": [
      "Test loss: 0.08673970349109732\n",
      "Test accuracy: 0.9754\n"
     ]
    },
    {
     "data": {
      "image/png": "[encoded data removed]",
      "text/plain": [
       "<Figure size 432x288 with 1 Axes>"
      ]
     },
     "metadata": {
      "tags": []
     },
     "output_type": "display_data"
    }
   ],
   "source": [
    "score = model.evaluate(x_test, y_test, verbose=0)\n",
    "print('Test loss:', score[0])\n",
    "print('Test accuracy:', score[1])\n",
    "fig,ax = plt.subplots(1,1)\n",
    "ax.set_xlabel('epoch') ; ax.set_ylabel('Categorical Crossentropy Loss')\n",
    "x = list(range(1,epochs+1))\n",
    "vy = history.history['val_loss']\n",
    "ty = history.history['loss']\n",
    "plt_dynamic(x, vy, ty, ax)"
   ]
  },
  {
   "cell_type": "code",
   "execution_count": 0,
   "metadata": {
    "colab": {},
    "colab_type": "code",
    "id": "3VReud5kFY22"
   },
   "outputs": [],
   "source": [
    "ptab.add_row([\"7 layer convnet\", score[1], score[0]])"
   ]
  },
  {
   "cell_type": "markdown",
   "metadata": {
    "colab_type": "text",
    "id": "x8nkyX4r1A55"
   },
   "source": [
    "# Conclusion:"
   ]
  },
  {
   "cell_type": "code",
   "execution_count": 15,
   "metadata": {
    "colab": {
     "base_uri": "https://localhost:8080/",
     "height": 136
    },
    "colab_type": "code",
    "id": "3Si4GNhiFY3A",
    "outputId": "1a853d2c-2b86-4c09-f689-d6ac37ddc5dd"
   },
   "outputs": [
    {
     "name": "stdout",
     "output_type": "stream",
     "text": [
      "+-----------------+---------------+----------------------+\n",
      "|    Model name   | test accuracy |    test log-loss     |\n",
      "+-----------------+---------------+----------------------+\n",
      "| 3 layer convnet |     0.9932    | 0.029028430455417583 |\n",
      "| 5 layer convnet |     0.992     | 0.02873982904376244  |\n",
      "| 7 layer convnet |     0.9754    | 0.08673970349109732  |\n",
      "+-----------------+---------------+----------------------+\n"
     ]
    }
   ],
   "source": [
    "print(ptab)"
   ]
  },
  {
   "cell_type": "code",
   "execution_count": 0,
   "metadata": {
    "colab": {},
    "colab_type": "code",
    "id": "SWVqq1zLFY3I"
   },
   "outputs": [],
   "source": []
  }
 ],
 "metadata": {
  "accelerator": "GPU",
  "colab": {
   "collapsed_sections": [],
   "name": "CNN_MNIST.ipynb",
   "provenance": [],
   "version": "0.3.2"
  },
  "kernelspec": {
   "display_name": "Python 3",
   "language": "python",
   "name": "python3"
  },
  "language_info": {
   "codemirror_mode": {
    "name": "ipython",
    "version": 3
   },
   "file_extension": ".py",
   "mimetype": "text/x-python",
   "name": "python",
   "nbconvert_exporter": "python",
   "pygments_lexer": "ipython3",
   "version": "3.6.5"
  }
 },
 "nbformat": 4,
 "nbformat_minor": 1
}
