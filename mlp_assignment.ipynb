{
 "cells": [
  {
   "cell_type": "markdown",
   "metadata": {
    "colab_type": "text",
    "id": "UTJmsXnXQKbG"
   },
   "source": [
    "## Keras -- MLPs on MNIST"
   ]
  },
  {
   "cell_type": "code",
   "execution_count": 0,
   "metadata": {
    "colab": {},
    "colab_type": "code",
    "id": "2UILABPAQKbH"
   },
   "outputs": [],
   "source": [
    "# if you keras is not using tensorflow as backend set \"KERAS_BACKEND=tensorflow\" use this command\n",
    "from keras.utils import np_utils \n",
    "from keras.datasets import mnist \n",
    "import seaborn as sns\n",
    "from keras.initializers import RandomNormal\n",
    "from keras.models import Sequential \n",
    "from keras.layers import Dense, Activation \n",
    "from keras.layers.normalization import BatchNormalization\n",
    "from keras.layers import Dropout"
   ]
  },
  {
   "cell_type": "code",
   "execution_count": 0,
   "metadata": {
    "colab": {},
    "colab_type": "code",
    "id": "lOO-TM_7QKbM"
   },
   "outputs": [],
   "source": [
    "%matplotlib inline\n",
    "import matplotlib.pyplot as plt\n",
    "import numpy as np\n",
    "import time\n",
    "def plt_dynamic(x, vy, ty, ax, colors=['b']):\n",
    "    ax.plot(x, vy, 'b', label=\"Validation Loss\")\n",
    "    ax.plot(x, ty, 'r', label=\"Train Loss\")\n",
    "    plt.legend()\n",
    "    plt.grid()\n",
    "    fig.canvas.draw()"
   ]
  },
  {
   "cell_type": "code",
   "execution_count": 0,
   "metadata": {
    "colab": {},
    "colab_type": "code",
    "id": "TKmYKnibQKbQ"
   },
   "outputs": [],
   "source": [
    "# the data, shuffled and split between train and test sets \n",
    "(X_train, y_train), (X_test, y_test) = mnist.load_data()"
   ]
  },
  {
   "cell_type": "code",
   "execution_count": 0,
   "metadata": {
    "colab": {
     "base_uri": "https://localhost:8080/",
     "height": 34
    },
    "colab_type": "code",
    "id": "Ve_kGQXiLXiU",
    "outputId": "35b5f5a2-6f76-4745-949a-6c51ca716f9b"
   },
   "outputs": [
    {
     "name": "stdout",
     "output_type": "stream",
     "text": [
      "60000\n"
     ]
    }
   ],
   "source": [
    "# example data point after normlizing\n",
    "print(X_train.shape[0])"
   ]
  },
  {
   "cell_type": "code",
   "execution_count": 0,
   "metadata": {
    "colab": {},
    "colab_type": "code",
    "id": "k0O8TyhNLXic"
   },
   "outputs": [],
   "source": [
    "a=mnist.load_data()"
   ]
  },
  {
   "cell_type": "code",
   "execution_count": 0,
   "metadata": {
    "colab": {
     "base_uri": "https://localhost:8080/",
     "height": 51
    },
    "colab_type": "code",
    "id": "CCwnZae-QKbT",
    "outputId": "e93bba54-80e7-471c-9472-3d8a46b431de"
   },
   "outputs": [
    {
     "name": "stdout",
     "output_type": "stream",
     "text": [
      "Number of training examples : 60000 and each image is of shape (28, 28)\n",
      "Number of training examples : 10000 and each image is of shape (28, 28)\n"
     ]
    }
   ],
   "source": [
    "print(\"Number of training examples :\", X_train.shape[0], \"and each image is of shape (%d, %d)\"%(X_train.shape[1], X_train.shape[2]))\n",
    "print(\"Number of training examples :\", X_test.shape[0], \"and each image is of shape (%d, %d)\"%(X_test.shape[1], X_test.shape[2]))"
   ]
  },
  {
   "cell_type": "code",
   "execution_count": 0,
   "metadata": {
    "colab": {},
    "colab_type": "code",
    "id": "BlotuCmoQKbW"
   },
   "outputs": [],
   "source": [
    "\n",
    "X_train = X_train.reshape(X_train.shape[0], X_train.shape[1]*X_train.shape[2]) \n",
    "X_test = X_test.reshape(X_test.shape[0], X_test.shape[1]*X_test.shape[2]) "
   ]
  },
  {
   "cell_type": "code",
   "execution_count": 0,
   "metadata": {
    "colab": {
     "base_uri": "https://localhost:8080/",
     "height": 51
    },
    "colab_type": "code",
    "id": "8JvpNJy4QKbY",
    "outputId": "d4488898-7316-4cc1-9ea9-8df2cf81f068"
   },
   "outputs": [
    {
     "name": "stdout",
     "output_type": "stream",
     "text": [
      "Number of training examples : 60000 and each image is of shape (784)\n",
      "Number of training examples : 10000 and each image is of shape (784)\n"
     ]
    }
   ],
   "source": [
    "# after converting the input images from 3d to 2d vectors\n",
    "\n",
    "print(\"Number of training examples :\", X_train.shape[0], \"and each image is of shape (%d)\"%(X_train.shape[1]))\n",
    "print(\"Number of training examples :\", X_test.shape[0], \"and each image is of shape (%d)\"%(X_test.shape[1]))"
   ]
  },
  {
   "cell_type": "code",
   "execution_count": 0,
   "metadata": {
    "colab": {},
    "colab_type": "code",
    "id": "lfohtdKPQKbd"
   },
   "outputs": [],
   "source": [
    "\n",
    "X_train = X_train/255\n",
    "X_test = X_test/255"
   ]
  },
  {
   "cell_type": "code",
   "execution_count": 0,
   "metadata": {
    "colab": {
     "base_uri": "https://localhost:8080/",
     "height": 51
    },
    "colab_type": "code",
    "id": "3Ruu-vXzQKbi",
    "outputId": "eea7a23f-1ac2-4281-ddf4-d1ffa2c97056"
   },
   "outputs": [
    {
     "name": "stdout",
     "output_type": "stream",
     "text": [
      "Class label of first image : 5\n",
      "After converting the output into a vector :  [0. 0. 0. 0. 0. 1. 0. 0. 0. 0.]\n"
     ]
    }
   ],
   "source": [
    "print(\"Class label of first image :\", y_train[0])\n",
    "Y_train = np_utils.to_categorical(y_train, 10) \n",
    "Y_test = np_utils.to_categorical(y_test, 10)\n",
    "\n",
    "print(\"After converting the output into a vector : \",Y_train[0])"
   ]
  },
  {
   "cell_type": "code",
   "execution_count": 0,
   "metadata": {
    "colab": {},
    "colab_type": "code",
    "id": "hRCy83sCLXjA"
   },
   "outputs": [],
   "source": [
    "output_dim = 10\n",
    "input_dim = X_train.shape[1]\n",
    "\n",
    "batch_size = 128 \n",
    "nb_epoch = 20"
   ]
  },
  {
   "cell_type": "markdown",
   "metadata": {
    "colab_type": "text",
    "id": "IWYP8-3pQKct"
   },
   "source": [
    "# 1. MLP + Dropout + AdamOptimizer  + BatchNormalization"
   ]
  },
  {
   "cell_type": "code",
   "execution_count": 0,
   "metadata": {
    "colab": {},
    "colab_type": "code",
    "id": "7tT7W0EA5R__"
   },
   "outputs": [],
   "source": [
    "from prettytable import PrettyTable\n",
    "ptab = PrettyTable()\n",
    "ptab.field_names = [\"Model name\", \"test accuracy\", \"test log-loss\"]"
   ]
  },
  {
   "cell_type": "code",
   "execution_count": 0,
   "metadata": {
    "colab": {
     "base_uri": "https://localhost:8080/",
     "height": 714
    },
    "colab_type": "code",
    "id": "DJj0hu0-QKct",
    "outputId": "8a2f9dce-7639-4d3e-9a39-50e936dc0b6a"
   },
   "outputs": [
    {
     "name": "stdout",
     "output_type": "stream",
     "text": [
      "Train on 60000 samples, validate on 10000 samples\n",
      "Epoch 1/20\n",
      "60000/60000 [==============================] - 6s 102us/step - loss: 0.5839 - acc: 0.8250 - val_loss: 0.1872 - val_acc: 0.9439\n",
      "Epoch 2/20\n",
      "60000/60000 [==============================] - 5s 81us/step - loss: 0.3112 - acc: 0.9109 - val_loss: 0.1431 - val_acc: 0.9553\n",
      "Epoch 3/20\n",
      "60000/60000 [==============================] - 5s 80us/step - loss: 0.2558 - acc: 0.9264 - val_loss: 0.1262 - val_acc: 0.9630\n",
      "Epoch 4/20\n",
      "60000/60000 [==============================] - 5s 81us/step - loss: 0.2174 - acc: 0.9380 - val_loss: 0.1090 - val_acc: 0.9665\n",
      "Epoch 5/20\n",
      "60000/60000 [==============================] - 5s 80us/step - loss: 0.1959 - acc: 0.9433 - val_loss: 0.0970 - val_acc: 0.9695\n",
      "Epoch 6/20\n",
      "60000/60000 [==============================] - 5s 80us/step - loss: 0.1801 - acc: 0.9483 - val_loss: 0.0947 - val_acc: 0.9728\n",
      "Epoch 7/20\n",
      "60000/60000 [==============================] - 5s 82us/step - loss: 0.1625 - acc: 0.9530 - val_loss: 0.0937 - val_acc: 0.9721\n",
      "Epoch 8/20\n",
      "60000/60000 [==============================] - 5s 85us/step - loss: 0.1542 - acc: 0.9543 - val_loss: 0.0876 - val_acc: 0.9746\n",
      "Epoch 9/20\n",
      "60000/60000 [==============================] - 5s 86us/step - loss: 0.1457 - acc: 0.9581 - val_loss: 0.0886 - val_acc: 0.9734\n",
      "Epoch 10/20\n",
      "60000/60000 [==============================] - 5s 86us/step - loss: 0.1388 - acc: 0.9585 - val_loss: 0.0833 - val_acc: 0.9761\n",
      "Epoch 11/20\n",
      "60000/60000 [==============================] - 5s 90us/step - loss: 0.1273 - acc: 0.9627 - val_loss: 0.0823 - val_acc: 0.9765\n",
      "Epoch 12/20\n",
      "60000/60000 [==============================] - 5s 84us/step - loss: 0.1270 - acc: 0.9624 - val_loss: 0.0763 - val_acc: 0.9776\n",
      "Epoch 13/20\n",
      "60000/60000 [==============================] - 5s 80us/step - loss: 0.1229 - acc: 0.9640 - val_loss: 0.0770 - val_acc: 0.9776\n",
      "Epoch 14/20\n",
      "60000/60000 [==============================] - 5s 80us/step - loss: 0.1164 - acc: 0.9658 - val_loss: 0.0751 - val_acc: 0.9776\n",
      "Epoch 15/20\n",
      "60000/60000 [==============================] - 5s 81us/step - loss: 0.1141 - acc: 0.9658 - val_loss: 0.0770 - val_acc: 0.9779\n",
      "Epoch 16/20\n",
      "60000/60000 [==============================] - 5s 82us/step - loss: 0.1063 - acc: 0.9688 - val_loss: 0.0718 - val_acc: 0.9792\n",
      "Epoch 17/20\n",
      "60000/60000 [==============================] - 5s 81us/step - loss: 0.1001 - acc: 0.9700 - val_loss: 0.0727 - val_acc: 0.9790\n",
      "Epoch 18/20\n",
      "60000/60000 [==============================] - 5s 80us/step - loss: 0.0990 - acc: 0.9708 - val_loss: 0.0715 - val_acc: 0.9791\n",
      "Epoch 19/20\n",
      "60000/60000 [==============================] - 5s 81us/step - loss: 0.0961 - acc: 0.9712 - val_loss: 0.0726 - val_acc: 0.9794\n",
      "Epoch 20/20\n",
      "60000/60000 [==============================] - 5s 82us/step - loss: 0.0930 - acc: 0.9715 - val_loss: 0.0696 - val_acc: 0.9801\n"
     ]
    }
   ],
   "source": [
    "# https://stackoverflow.com/questions/34716454/where-do-i-call-the-batchnormalization-function-in-keras\n",
    "\n",
    "\n",
    "model_drop = Sequential()\n",
    "\n",
    "model_drop.add(Dense(364, activation='relu', input_shape=(input_dim,), kernel_initializer=RandomNormal(mean=0.0, stddev=0.039, seed=None)))\n",
    "model_drop.add(BatchNormalization())\n",
    "model_drop.add(Dropout(0.5))\n",
    "\n",
    "model_drop.add(Dense(52, activation='relu', kernel_initializer=RandomNormal(mean=0.0, stddev=0.55, seed=None)) )\n",
    "model_drop.add(BatchNormalization())\n",
    "model_drop.add(Dropout(0.5))\n",
    "\n",
    "model_drop.add(Dense(output_dim, activation='softmax'))\n",
    "\n",
    "model_drop.compile(optimizer='adam', loss='categorical_crossentropy', metrics=['accuracy'])\n",
    "\n",
    "history = model_drop.fit(X_train, Y_train, batch_size=batch_size, epochs=nb_epoch, verbose=1, validation_data=(X_test, Y_test))"
   ]
  },
  {
   "cell_type": "code",
   "execution_count": 0,
   "metadata": {
    "colab": {
     "base_uri": "https://localhost:8080/",
     "height": 51
    },
    "colab_type": "code",
    "id": "i5WcfQRFQKc0",
    "outputId": "38a508ab-def0-442f-cc67-95ce1258993e"
   },
   "outputs": [
    {
     "name": "stdout",
     "output_type": "stream",
     "text": [
      "Test score: 0.06959077430961189\n",
      "Test accuracy: 0.9801\n"
     ]
    }
   ],
   "source": [
    "score = model_drop.evaluate(X_test, Y_test, verbose=0) \n",
    "print('Test score:', score[0]) \n",
    "print('Test accuracy:', score[1])\n",
    "\n"
   ]
  },
  {
   "cell_type": "code",
   "execution_count": 0,
   "metadata": {
    "colab": {},
    "colab_type": "code",
    "id": "J77WiPmR5ArS"
   },
   "outputs": [],
   "source": [
    "ptab.add_row([\"784-364-52-10\", score[1], score[0]])"
   ]
  },
  {
   "cell_type": "code",
   "execution_count": 0,
   "metadata": {
    "colab": {
     "base_uri": "https://localhost:8080/",
     "height": 280
    },
    "colab_type": "code",
    "id": "jczgvW13Se2w",
    "outputId": "aa2dee0b-d3b8-4e20-fc58-b17778863ba6"
   },
   "outputs": [
    {
     "data": {
      "image/png": "[encoded data removed]",
      "text/plain": [
       "<Figure size 432x288 with 1 Axes>"
      ]
     },
     "metadata": {
      "tags": []
     },
     "output_type": "display_data"
    }
   ],
   "source": [
    "fig,ax = plt.subplots(1,1)\n",
    "ax.set_xlabel('epoch') ; ax.set_ylabel('Categorical Crossentropy Loss')\n",
    "\n",
    "x = list(range(1,nb_epoch+1))\n",
    "\n",
    "vy = history.history['val_loss']\n",
    "ty = history.history['loss']\n",
    "plt_dynamic(x, vy, ty, ax)"
   ]
  },
  {
   "cell_type": "code",
   "execution_count": 0,
   "metadata": {
    "colab": {
     "base_uri": "https://localhost:8080/",
     "height": 372
    },
    "colab_type": "code",
    "id": "U2N2u7xoQKc2",
    "outputId": "07ba77ac-3ebf-445b-a069-d4fda64e2557"
   },
   "outputs": [
    {
     "name": "stderr",
     "output_type": "stream",
     "text": [
      "/usr/local/lib/python3.6/dist-packages/seaborn/categorical.py:588: FutureWarning: remove_na is deprecated and is a private function. Do not use.\n",
      "  kde_data = remove_na(group_data)\n",
      "/usr/local/lib/python3.6/dist-packages/seaborn/categorical.py:816: FutureWarning: remove_na is deprecated and is a private function. Do not use.\n",
      "  violin_data = remove_na(group_data)\n"
     ]
    },
    {
     "data": {
      "image/png": "[encoded data removed]",
      "text/plain": [
       "<Figure size 432x288 with 3 Axes>"
      ]
     },
     "metadata": {
      "tags": []
     },
     "output_type": "display_data"
    }
   ],
   "source": [
    "w_after = model_drop.get_weights()\n",
    "\n",
    "h1_w = w_after[0].flatten().reshape(-1,1)\n",
    "h2_w = w_after[2].flatten().reshape(-1,1)\n",
    "out_w = w_after[4].flatten().reshape(-1,1)\n",
    "\n",
    "\n",
    "fig = plt.figure()\n",
    "plt.title(\"Weight matrices after model trained\")\n",
    "plt.subplot(1, 3, 1)\n",
    "plt.title(\"Trained model Weights\")\n",
    "ax = sns.violinplot(y=h1_w,color='b')\n",
    "plt.xlabel('Hidden Layer 1')\n",
    "\n",
    "plt.subplot(1, 3, 2)\n",
    "plt.title(\"Trained model Weights\")\n",
    "ax = sns.violinplot(y=h2_w, color='r')\n",
    "plt.xlabel('Hidden Layer 2 ')\n",
    "\n",
    "plt.subplot(1, 3, 3)\n",
    "plt.title(\"Trained model Weights\")\n",
    "ax = sns.violinplot(y=out_w,color='y')\n",
    "plt.xlabel('Output Layer ')\n",
    "plt.show()"
   ]
  },
  {
   "cell_type": "markdown",
   "metadata": {
    "colab_type": "text",
    "id": "nX3SC3VOL1l8"
   },
   "source": [
    "# 2. MLP + Dropout + AdamOptimizer + BatchNormalization"
   ]
  },
  {
   "cell_type": "code",
   "execution_count": 0,
   "metadata": {
    "colab": {
     "base_uri": "https://localhost:8080/",
     "height": 714
    },
    "colab_type": "code",
    "id": "oATCmuS9MD_7",
    "outputId": "29c6aa95-6853-4877-8410-5fb00665bab8"
   },
   "outputs": [
    {
     "name": "stdout",
     "output_type": "stream",
     "text": [
      "Train on 60000 samples, validate on 10000 samples\n",
      "Epoch 1/20\n",
      "60000/60000 [==============================] - 7s 124us/step - loss: 1.0102 - acc: 0.6851 - val_loss: 0.2695 - val_acc: 0.9222\n",
      "Epoch 2/20\n",
      "60000/60000 [==============================] - 6s 102us/step - loss: 0.4758 - acc: 0.8589 - val_loss: 0.2030 - val_acc: 0.9382\n",
      "Epoch 3/20\n",
      "60000/60000 [==============================] - 6s 105us/step - loss: 0.3715 - acc: 0.8924 - val_loss: 0.1742 - val_acc: 0.9469\n",
      "Epoch 4/20\n",
      "60000/60000 [==============================] - 6s 105us/step - loss: 0.3160 - acc: 0.9101 - val_loss: 0.1541 - val_acc: 0.9535\n",
      "Epoch 5/20\n",
      "60000/60000 [==============================] - 6s 104us/step - loss: 0.2788 - acc: 0.9213 - val_loss: 0.1403 - val_acc: 0.9582\n",
      "Epoch 6/20\n",
      "60000/60000 [==============================] - 6s 100us/step - loss: 0.2559 - acc: 0.9277 - val_loss: 0.1247 - val_acc: 0.9645\n",
      "Epoch 7/20\n",
      "60000/60000 [==============================] - 6s 99us/step - loss: 0.2310 - acc: 0.9363 - val_loss: 0.1170 - val_acc: 0.9652\n",
      "Epoch 8/20\n",
      "60000/60000 [==============================] - 6s 101us/step - loss: 0.2135 - acc: 0.9400 - val_loss: 0.1195 - val_acc: 0.9666\n",
      "Epoch 9/20\n",
      "60000/60000 [==============================] - 6s 100us/step - loss: 0.2018 - acc: 0.9422 - val_loss: 0.1129 - val_acc: 0.9671\n",
      "Epoch 10/20\n",
      "60000/60000 [==============================] - 6s 101us/step - loss: 0.1906 - acc: 0.9472 - val_loss: 0.1038 - val_acc: 0.9702\n",
      "Epoch 11/20\n",
      "60000/60000 [==============================] - 6s 99us/step - loss: 0.1804 - acc: 0.9503 - val_loss: 0.1015 - val_acc: 0.9712\n",
      "Epoch 12/20\n",
      "60000/60000 [==============================] - 6s 100us/step - loss: 0.1682 - acc: 0.9528 - val_loss: 0.1010 - val_acc: 0.9715\n",
      "Epoch 13/20\n",
      "60000/60000 [==============================] - 6s 101us/step - loss: 0.1653 - acc: 0.9537 - val_loss: 0.0963 - val_acc: 0.9736\n",
      "Epoch 14/20\n",
      "60000/60000 [==============================] - 6s 101us/step - loss: 0.1591 - acc: 0.9560 - val_loss: 0.0964 - val_acc: 0.9749\n",
      "Epoch 15/20\n",
      "60000/60000 [==============================] - 6s 100us/step - loss: 0.1545 - acc: 0.9566 - val_loss: 0.0923 - val_acc: 0.9752\n",
      "Epoch 16/20\n",
      "60000/60000 [==============================] - 6s 101us/step - loss: 0.1494 - acc: 0.9586 - val_loss: 0.0897 - val_acc: 0.9761\n",
      "Epoch 17/20\n",
      "60000/60000 [==============================] - 6s 100us/step - loss: 0.1427 - acc: 0.9602 - val_loss: 0.0889 - val_acc: 0.9762\n",
      "Epoch 18/20\n",
      "60000/60000 [==============================] - 6s 105us/step - loss: 0.1410 - acc: 0.9610 - val_loss: 0.0824 - val_acc: 0.9768\n",
      "Epoch 19/20\n",
      "60000/60000 [==============================] - 6s 102us/step - loss: 0.1355 - acc: 0.9622 - val_loss: 0.0830 - val_acc: 0.9759\n",
      "Epoch 20/20\n",
      "60000/60000 [==============================] - 6s 99us/step - loss: 0.1268 - acc: 0.9640 - val_loss: 0.0821 - val_acc: 0.9771\n"
     ]
    }
   ],
   "source": [
    "# https://stackoverflow.com/questions/34716454/where-do-i-call-the-batchnormalization-function-in-keras\n",
    "\n",
    "from keras.layers import Dropout\n",
    "\n",
    "model_drop = Sequential()\n",
    "\n",
    "model_drop.add(Dense(256, activation='relu', input_shape=(input_dim,), kernel_initializer=RandomNormal(mean=0.0, stddev=0.039, seed=None)))\n",
    "model_drop.add(BatchNormalization())\n",
    "model_drop.add(Dropout(0.5))\n",
    "\n",
    "model_drop.add(Dense(128, activation='relu', kernel_initializer=RandomNormal(mean=0.0, stddev=0.55, seed=None)) )\n",
    "model_drop.add(BatchNormalization())\n",
    "model_drop.add(Dropout(0.5))\n",
    "\n",
    "model_drop.add(Dense(64, activation='relu', kernel_initializer=RandomNormal(mean=0.0, stddev=0.55, seed=None)) )\n",
    "model_drop.add(BatchNormalization())\n",
    "model_drop.add(Dropout(0.5))\n",
    "\n",
    "model_drop.add(Dense(output_dim, activation='softmax'))\n",
    "\n",
    "model_drop.compile(optimizer='adam', loss='categorical_crossentropy', metrics=['accuracy'])\n",
    "\n",
    "history = model_drop.fit(X_train, Y_train, batch_size=batch_size, epochs=nb_epoch, verbose=1, validation_data=(X_test, Y_test))"
   ]
  },
  {
   "cell_type": "code",
   "execution_count": 0,
   "metadata": {
    "colab": {
     "base_uri": "https://localhost:8080/",
     "height": 313
    },
    "colab_type": "code",
    "id": "KXzEcN93MKpj",
    "outputId": "77bf6dee-68d3-41db-b7e7-f30b00b5efb1"
   },
   "outputs": [
    {
     "name": "stdout",
     "output_type": "stream",
     "text": [
      "Test score: 0.08211442540470744\n",
      "Test accuracy: 0.9771\n"
     ]
    },
    {
     "data": {
      "image/png": "[encoded data removed]",
      "text/plain": [
       "<Figure size 432x288 with 1 Axes>"
      ]
     },
     "metadata": {
      "tags": []
     },
     "output_type": "display_data"
    }
   ],
   "source": [
    "score = model_drop.evaluate(X_test, Y_test, verbose=0) \n",
    "print('Test score:', score[0]) \n",
    "print('Test accuracy:', score[1])\n",
    "\n",
    "fig,ax = plt.subplots(1,1)\n",
    "ax.set_xlabel('epoch') ; ax.set_ylabel('Categorical Crossentropy Loss')\n",
    "\n",
    "x = list(range(1,nb_epoch+1))\n",
    "\n",
    "vy = history.history['val_loss']\n",
    "ty = history.history['loss']\n",
    "plt_dynamic(x, vy, ty, ax)"
   ]
  },
  {
   "cell_type": "code",
   "execution_count": 0,
   "metadata": {
    "colab": {},
    "colab_type": "code",
    "id": "5JKiDCFn6-n-"
   },
   "outputs": [],
   "source": [
    "ptab.add_row([\"784-256-128-64-10\", score[1], score[0]])"
   ]
  },
  {
   "cell_type": "code",
   "execution_count": 0,
   "metadata": {
    "colab": {
     "base_uri": "https://localhost:8080/",
     "height": 372
    },
    "colab_type": "code",
    "id": "L-JiY6CwMLRu",
    "outputId": "a1eb5784-3b24-4c09-957f-af0064666c19"
   },
   "outputs": [
    {
     "name": "stderr",
     "output_type": "stream",
     "text": [
      "/usr/local/lib/python3.6/dist-packages/seaborn/categorical.py:588: FutureWarning: remove_na is deprecated and is a private function. Do not use.\n",
      "  kde_data = remove_na(group_data)\n",
      "/usr/local/lib/python3.6/dist-packages/seaborn/categorical.py:816: FutureWarning: remove_na is deprecated and is a private function. Do not use.\n",
      "  violin_data = remove_na(group_data)\n"
     ]
    },
    {
     "data": {
      "image/png": "[encoded data removed]",
      "text/plain": [
       "<Figure size 432x288 with 3 Axes>"
      ]
     },
     "metadata": {
      "tags": []
     },
     "output_type": "display_data"
    }
   ],
   "source": [
    "w_after = model_drop.get_weights()\n",
    "\n",
    "h1_w = w_after[0].flatten().reshape(-1,1)\n",
    "h2_w = w_after[2].flatten().reshape(-1,1)\n",
    "out_w = w_after[4].flatten().reshape(-1,1)\n",
    "\n",
    "\n",
    "fig = plt.figure()\n",
    "plt.title(\"Weight matrices after model trained\")\n",
    "plt.subplot(1, 3, 1)\n",
    "plt.title(\"Trained model Weights\")\n",
    "ax = sns.violinplot(y=h1_w,color='b')\n",
    "plt.xlabel('Hidden Layer 1')\n",
    "\n",
    "plt.subplot(1, 3, 2)\n",
    "plt.title(\"Trained model Weights\")\n",
    "ax = sns.violinplot(y=h2_w, color='r')\n",
    "plt.xlabel('Hidden Layer 2 ')\n",
    "\n",
    "plt.subplot(1, 3, 3)\n",
    "plt.title(\"Trained model Weights\")\n",
    "ax = sns.violinplot(y=out_w,color='y')\n",
    "plt.xlabel('Output Layer ')\n",
    "plt.show()"
   ]
  },
  {
   "cell_type": "markdown",
   "metadata": {
    "colab_type": "text",
    "id": "E_B7PQFCMcBO"
   },
   "source": [
    "# 3. MLP + Dropout + AdamOptimizer + BatchNormalization"
   ]
  },
  {
   "cell_type": "code",
   "execution_count": 0,
   "metadata": {
    "colab": {
     "base_uri": "https://localhost:8080/",
     "height": 714
    },
    "colab_type": "code",
    "id": "E0f8YK5DMWRo",
    "outputId": "0c23732e-ec1d-41b6-aab0-77ea7de5dc4d"
   },
   "outputs": [
    {
     "name": "stdout",
     "output_type": "stream",
     "text": [
      "Train on 60000 samples, validate on 10000 samples\n",
      "Epoch 1/20\n",
      "60000/60000 [==============================] - 10s 161us/step - loss: 1.3014 - acc: 0.5782 - val_loss: 0.3161 - val_acc: 0.9139\n",
      "Epoch 2/20\n",
      "60000/60000 [==============================] - 8s 132us/step - loss: 0.5599 - acc: 0.8311 - val_loss: 0.2104 - val_acc: 0.9356\n",
      "Epoch 3/20\n",
      "60000/60000 [==============================] - 8s 133us/step - loss: 0.4079 - acc: 0.8835 - val_loss: 0.1735 - val_acc: 0.9488\n",
      "Epoch 4/20\n",
      "60000/60000 [==============================] - 8s 130us/step - loss: 0.3315 - acc: 0.9059 - val_loss: 0.1455 - val_acc: 0.9560\n",
      "Epoch 5/20\n",
      "60000/60000 [==============================] - 8s 132us/step - loss: 0.2933 - acc: 0.9175 - val_loss: 0.1356 - val_acc: 0.9627\n",
      "Epoch 6/20\n",
      "60000/60000 [==============================] - 8s 133us/step - loss: 0.2571 - acc: 0.9299 - val_loss: 0.1240 - val_acc: 0.9642\n",
      "Epoch 7/20\n",
      "60000/60000 [==============================] - 8s 140us/step - loss: 0.2317 - acc: 0.9383 - val_loss: 0.1135 - val_acc: 0.9689\n",
      "Epoch 8/20\n",
      "60000/60000 [==============================] - 8s 131us/step - loss: 0.2131 - acc: 0.9424 - val_loss: 0.1082 - val_acc: 0.9686\n",
      "Epoch 9/20\n",
      "60000/60000 [==============================] - 8s 130us/step - loss: 0.1930 - acc: 0.9473 - val_loss: 0.1056 - val_acc: 0.9719\n",
      "Epoch 10/20\n",
      "60000/60000 [==============================] - 8s 132us/step - loss: 0.1850 - acc: 0.9496 - val_loss: 0.1049 - val_acc: 0.9705\n",
      "Epoch 11/20\n",
      "60000/60000 [==============================] - 8s 129us/step - loss: 0.1747 - acc: 0.9533 - val_loss: 0.0895 - val_acc: 0.9752\n",
      "Epoch 12/20\n",
      "60000/60000 [==============================] - 8s 130us/step - loss: 0.1644 - acc: 0.9560 - val_loss: 0.0950 - val_acc: 0.9743\n",
      "Epoch 13/20\n",
      "60000/60000 [==============================] - 8s 128us/step - loss: 0.1502 - acc: 0.9600 - val_loss: 0.0899 - val_acc: 0.9758\n",
      "Epoch 14/20\n",
      "60000/60000 [==============================] - 8s 129us/step - loss: 0.1473 - acc: 0.9617 - val_loss: 0.0867 - val_acc: 0.9772\n",
      "Epoch 15/20\n",
      "60000/60000 [==============================] - 8s 135us/step - loss: 0.1400 - acc: 0.9629 - val_loss: 0.0832 - val_acc: 0.9774\n",
      "Epoch 16/20\n",
      "60000/60000 [==============================] - 8s 129us/step - loss: 0.1382 - acc: 0.9635 - val_loss: 0.0794 - val_acc: 0.9798\n",
      "Epoch 17/20\n",
      "60000/60000 [==============================] - 8s 130us/step - loss: 0.1327 - acc: 0.9651 - val_loss: 0.0812 - val_acc: 0.9775\n",
      "Epoch 18/20\n",
      "60000/60000 [==============================] - 8s 131us/step - loss: 0.1233 - acc: 0.9672 - val_loss: 0.0817 - val_acc: 0.9788\n",
      "Epoch 19/20\n",
      "60000/60000 [==============================] - 8s 131us/step - loss: 0.1209 - acc: 0.9675 - val_loss: 0.0793 - val_acc: 0.9804\n",
      "Epoch 20/20\n",
      "60000/60000 [==============================] - 8s 129us/step - loss: 0.1180 - acc: 0.9681 - val_loss: 0.0796 - val_acc: 0.9788\n"
     ]
    }
   ],
   "source": [
    "# https://stackoverflow.com/questions/34716454/where-do-i-call-the-batchnormalization-function-in-keras\n",
    "\n",
    "from keras.layers import Dropout\n",
    "\n",
    "model_drop = Sequential()\n",
    "\n",
    "model_drop.add(Dense(512, activation='relu', input_shape=(input_dim,), kernel_initializer=RandomNormal(mean=0.0, stddev=0.039, seed=None)))\n",
    "model_drop.add(BatchNormalization())\n",
    "model_drop.add(Dropout(0.5))\n",
    "\n",
    "model_drop.add(Dense(364, activation='relu', kernel_initializer=RandomNormal(mean=0.0, stddev=0.55, seed=None)) )\n",
    "model_drop.add(BatchNormalization())\n",
    "model_drop.add(Dropout(0.5))\n",
    "\n",
    "model_drop.add(Dense(128, activation='relu', kernel_initializer=RandomNormal(mean=0.0, stddev=0.55, seed=None)) )\n",
    "model_drop.add(BatchNormalization())\n",
    "model_drop.add(Dropout(0.5))\n",
    "\n",
    "model_drop.add(Dense(56, activation='relu', kernel_initializer=RandomNormal(mean=0.0, stddev=0.55, seed=None)) )\n",
    "model_drop.add(BatchNormalization())\n",
    "model_drop.add(Dropout(0.5))\n",
    "\n",
    "model_drop.add(Dense(output_dim, activation='softmax'))\n",
    "\n",
    "model_drop.compile(optimizer='adam', loss='categorical_crossentropy', metrics=['accuracy'])\n",
    "\n",
    "history = model_drop.fit(X_train, Y_train, batch_size=batch_size, epochs=nb_epoch, verbose=1, validation_data=(X_test, Y_test))"
   ]
  },
  {
   "cell_type": "code",
   "execution_count": 0,
   "metadata": {
    "colab": {
     "base_uri": "https://localhost:8080/",
     "height": 313
    },
    "colab_type": "code",
    "id": "CawOdpgwMkDZ",
    "outputId": "bc4e6426-3d57-47e9-c7ac-c4f867dcd73f"
   },
   "outputs": [
    {
     "name": "stdout",
     "output_type": "stream",
     "text": [
      "Test score: 0.0795607059971313\n",
      "Test accuracy: 0.9788\n"
     ]
    },
    {
     "data": {
      "image/png": "[encoded data removed]",
      "text/plain": [
       "<Figure size 432x288 with 1 Axes>"
      ]
     },
     "metadata": {
      "tags": []
     },
     "output_type": "display_data"
    }
   ],
   "source": [
    "score = model_drop.evaluate(X_test, Y_test, verbose=0) \n",
    "print('Test score:', score[0]) \n",
    "print('Test accuracy:', score[1])\n",
    "\n",
    "fig,ax = plt.subplots(1,1)\n",
    "ax.set_xlabel('epoch') ; ax.set_ylabel('Categorical Crossentropy Loss')\n",
    "\n",
    "x = list(range(1,nb_epoch+1))\n",
    "\n",
    "vy = history.history['val_loss']\n",
    "ty = history.history['loss']\n",
    "plt_dynamic(x, vy, ty, ax)"
   ]
  },
  {
   "cell_type": "code",
   "execution_count": 0,
   "metadata": {
    "colab": {},
    "colab_type": "code",
    "id": "HVIL8owe7TXN"
   },
   "outputs": [],
   "source": [
    "ptab.add_row([\"784-512-364-128-56-10\", score[1], score[0]])"
   ]
  },
  {
   "cell_type": "code",
   "execution_count": 0,
   "metadata": {
    "colab": {
     "base_uri": "https://localhost:8080/",
     "height": 372
    },
    "colab_type": "code",
    "id": "LmGmxpXsMpZU",
    "outputId": "f6ebcf80-6b4a-4c5c-b3a2-39dbfd0ba530"
   },
   "outputs": [
    {
     "name": "stderr",
     "output_type": "stream",
     "text": [
      "/usr/local/lib/python3.6/dist-packages/seaborn/categorical.py:588: FutureWarning: remove_na is deprecated and is a private function. Do not use.\n",
      "  kde_data = remove_na(group_data)\n",
      "/usr/local/lib/python3.6/dist-packages/seaborn/categorical.py:816: FutureWarning: remove_na is deprecated and is a private function. Do not use.\n",
      "  violin_data = remove_na(group_data)\n"
     ]
    },
    {
     "data": {
      "image/png": "[encoded data removed]",
      "text/plain": [
       "<Figure size 432x288 with 3 Axes>"
      ]
     },
     "metadata": {
      "tags": []
     },
     "output_type": "display_data"
    }
   ],
   "source": [
    "w_after = model_drop.get_weights()\n",
    "\n",
    "h1_w = w_after[0].flatten().reshape(-1,1)\n",
    "h2_w = w_after[2].flatten().reshape(-1,1)\n",
    "out_w = w_after[4].flatten().reshape(-1,1)\n",
    "\n",
    "\n",
    "fig = plt.figure()\n",
    "plt.title(\"Weight matrices after model trained\")\n",
    "plt.subplot(1, 3, 1)\n",
    "plt.title(\"Trained model Weights\")\n",
    "ax = sns.violinplot(y=h1_w,color='b')\n",
    "plt.xlabel('Hidden Layer 1')\n",
    "\n",
    "plt.subplot(1, 3, 2)\n",
    "plt.title(\"Trained model Weights\")\n",
    "ax = sns.violinplot(y=h2_w, color='r')\n",
    "plt.xlabel('Hidden Layer 2 ')\n",
    "\n",
    "plt.subplot(1, 3, 3)\n",
    "plt.title(\"Trained model Weights\")\n",
    "ax = sns.violinplot(y=out_w,color='y')\n",
    "plt.xlabel('Output Layer ')\n",
    "plt.show()"
   ]
  },
  {
   "cell_type": "code",
   "execution_count": 0,
   "metadata": {
    "colab": {
     "base_uri": "https://localhost:8080/",
     "height": 136
    },
    "colab_type": "code",
    "id": "oEIy4E4N7lzn",
    "outputId": "654d95ec-0013-457f-e1c0-276019b48533"
   },
   "outputs": [
    {
     "name": "stdout",
     "output_type": "stream",
     "text": [
      "+-----------------------+---------------+---------------------+\n",
      "|       Model name      | test accuracy |    test log-loss    |\n",
      "+-----------------------+---------------+---------------------+\n",
      "|     784-364-52-10     |     0.9801    | 0.06959077430961189 |\n",
      "|   784-256-128-64-10   |     0.9771    | 0.08211442540470744 |\n",
      "| 784-512-364-128-56-10 |     0.9788    |  0.0795607059971313 |\n",
      "+-----------------------+---------------+---------------------+\n"
     ]
    }
   ],
   "source": [
    "print(ptab)"
   ]
  },
  {
   "cell_type": "code",
   "execution_count": 0,
   "metadata": {
    "colab": {},
    "colab_type": "code",
    "id": "ZwvYJvUZ_Rjo"
   },
   "outputs": [],
   "source": []
  }
 ],
 "metadata": {
  "accelerator": "GPU",
  "colab": {
   "collapsed_sections": [],
   "name": "mlp assignment.ipynb",
   "provenance": [],
   "version": "0.3.2"
  },
  "kernelspec": {
   "display_name": "Python 3",
   "language": "python",
   "name": "python3"
  },
  "language_info": {
   "codemirror_mode": {
    "name": "ipython",
    "version": 3
   },
   "file_extension": ".py",
   "mimetype": "text/x-python",
   "name": "python",
   "nbconvert_exporter": "python",
   "pygments_lexer": "ipython3",
   "version": "3.6.5"
  }
 },
 "nbformat": 4,
 "nbformat_minor": 1
}
